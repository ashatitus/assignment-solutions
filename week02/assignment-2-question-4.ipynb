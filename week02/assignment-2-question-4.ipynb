{
 "cells": [
  {
   "cell_type": "markdown",
   "metadata": {},
   "source": [
    "# Reshaping data in R\n",
    "\n",
    "In this part of the assignment, we will again reshape [rhpi.csv](rhpi.csv) and [rpdi.csv](rpdi.csv), but this time we will use R to do it! \n",
    "\n",
    "Take a look of the [assignment-2-complex-example-python.ipynb](assignment-2-complex-example-python.ipynb) and try to do the same using R. You only need to fill in the part 1-6 here. You do **not** need to do the pivot table.\n",
    "\n",
    "You may find it useful to learn more how to use dataframe in R, read the [how-to-manipulate-dataframe.ipynb](how-to-manipulate-dataframe.ipynb).\n",
    "\n",
    "If you get stuck somewhere, feel free to contact us! As this is a formative assignment, we are happy to give you a few lines of codes to help you to start."
   ]
  },
  {
   "cell_type": "markdown",
   "metadata": {
    "collapsed": true
   },
   "source": [
    "## 1. Load the HPI data\n",
    "\n",
    "a. click into the [rhpi.csv](rhpi.csv) and have a look of the data. Does it have any header? How is each entry of the data separated? by space or comma? \n",
    "    \n",
    "b. take a look of the [```read.csv```](https://stat.ethz.ch/R-manual/R-devel/library/utils/html/read.table.html) function and read the csv data to r.\n",
    "    \n",
    "c. after the data is loaded into r, you can use [```head```](https://stat.ethz.ch/R-manual/R-devel/library/utils/html/head.html) function to take a look of the first few rows of data. Is it in long or wide format?\n",
    "    \n",
    "d. you may find out that the first column name is empty. You may update the first column name to \"country\" by using [```colnames```](https://stat.ethz.ch/R-manual/R-devel/library/base/html/colnames.html) function. And remember R starts counting from 1!"
   ]
  },
  {
   "cell_type": "code",
   "execution_count": 3,
   "metadata": {},
   "outputs": [
    {
     "data": {
      "text/html": [
       "<table>\n",
       "<thead><tr><th scope=col>X</th><th scope=col>X1975.Q1</th><th scope=col>X1975.Q2</th><th scope=col>X1975.Q3</th><th scope=col>X1975.Q4</th><th scope=col>X1976.Q1</th><th scope=col>X1976.Q2</th><th scope=col>X1976.Q3</th><th scope=col>X1976.Q4</th><th scope=col>X1977.Q1</th><th scope=col>⋯</th><th scope=col>X2014.Q4</th><th scope=col>X2015.Q1</th><th scope=col>X2015.Q2</th><th scope=col>X2015.Q3</th><th scope=col>X2015.Q4</th><th scope=col>X2016.Q1</th><th scope=col>X2016.Q2</th><th scope=col>X2016.Q3</th><th scope=col>X2016.Q4</th><th scope=col>X2017.Q1</th></tr></thead>\n",
       "<tbody>\n",
       "\t<tr><td>Australia  </td><td> 39.16     </td><td> 38.50     </td><td> 38.61     </td><td> 37.76     </td><td> 37.95     </td><td> 38.12     </td><td> 38.36     </td><td> 37.90     </td><td> 37.94     </td><td>⋯          </td><td>132.02     </td><td>134.01     </td><td>139.46     </td><td>142.59     </td><td>141.82     </td><td>142.13     </td><td>144.49     </td><td>146.95     </td><td>153.00     </td><td>156.41     </td></tr>\n",
       "\t<tr><td>Belgium    </td><td> 44.51     </td><td> 45.66     </td><td> 47.01     </td><td> 48.67     </td><td> 50.60     </td><td> 52.26     </td><td> 53.74     </td><td> 55.20     </td><td> 56.32     </td><td>⋯          </td><td>120.57     </td><td>121.07     </td><td>120.81     </td><td>120.89     </td><td>120.85     </td><td>121.12     </td><td>121.21     </td><td>121.73     </td><td>122.33     </td><td>122.12     </td></tr>\n",
       "\t<tr><td>Canada     </td><td> 59.42     </td><td> 59.20     </td><td> 59.89     </td><td> 59.54     </td><td> 59.20     </td><td> 59.85     </td><td> 58.89     </td><td> 57.63     </td><td> 55.91     </td><td>⋯          </td><td>146.32     </td><td>148.47     </td><td>152.70     </td><td>154.65     </td><td>156.18     </td><td>160.20     </td><td>172.16     </td><td>178.14     </td><td>179.53     </td><td>186.32     </td></tr>\n",
       "\t<tr><td>Switzerland</td><td> 93.83     </td><td> 91.83     </td><td> 90.41     </td><td> 88.91     </td><td> 86.83     </td><td> 85.89     </td><td> 84.98     </td><td> 85.19     </td><td> 84.54     </td><td>⋯          </td><td>132.82     </td><td>134.30     </td><td>135.28     </td><td>135.78     </td><td>136.48     </td><td>137.36     </td><td>137.54     </td><td>138.22     </td><td>139.28     </td><td>140.06     </td></tr>\n",
       "\t<tr><td>Germany    </td><td>108.59     </td><td>108.46     </td><td>109.07     </td><td>109.30     </td><td>109.90     </td><td>110.60     </td><td>111.24     </td><td>112.64     </td><td>113.76     </td><td>⋯          </td><td>101.83     </td><td>103.20     </td><td>104.33     </td><td>105.36     </td><td>106.47     </td><td>108.00     </td><td>109.95     </td><td>111.61     </td><td>112.66     </td><td>113.97     </td></tr>\n",
       "\t<tr><td>Denmark    </td><td> 57.37     </td><td> 57.61     </td><td> 59.07     </td><td> 58.07     </td><td> 58.44     </td><td> 57.28     </td><td> 57.34     </td><td> 58.64     </td><td> 57.49     </td><td>⋯          </td><td> 93.25     </td><td> 96.35     </td><td> 98.00     </td><td> 98.17     </td><td> 98.67     </td><td>100.52     </td><td>100.72     </td><td>101.44     </td><td>101.53     </td><td>101.73     </td></tr>\n",
       "</tbody>\n",
       "</table>\n"
      ],
      "text/latex": [
       "\\begin{tabular}{r|llllllllllllllllllllllllllllllllllllllllllllllllllllllllllllllllllllllllllllllllllllllllllllllllllllllllllllllllllllllllllllllllllllllllllllllllllllllllllllllllllllllllll}\n",
       " X & X1975.Q1 & X1975.Q2 & X1975.Q3 & X1975.Q4 & X1976.Q1 & X1976.Q2 & X1976.Q3 & X1976.Q4 & X1977.Q1 & ⋯ & X2014.Q4 & X2015.Q1 & X2015.Q2 & X2015.Q3 & X2015.Q4 & X2016.Q1 & X2016.Q2 & X2016.Q3 & X2016.Q4 & X2017.Q1\\\\\n",
       "\\hline\n",
       "\t Australia   &  39.16      &  38.50      &  38.61      &  37.76      &  37.95      &  38.12      &  38.36      &  37.90      &  37.94      & ⋯           & 132.02      & 134.01      & 139.46      & 142.59      & 141.82      & 142.13      & 144.49      & 146.95      & 153.00      & 156.41     \\\\\n",
       "\t Belgium     &  44.51      &  45.66      &  47.01      &  48.67      &  50.60      &  52.26      &  53.74      &  55.20      &  56.32      & ⋯           & 120.57      & 121.07      & 120.81      & 120.89      & 120.85      & 121.12      & 121.21      & 121.73      & 122.33      & 122.12     \\\\\n",
       "\t Canada      &  59.42      &  59.20      &  59.89      &  59.54      &  59.20      &  59.85      &  58.89      &  57.63      &  55.91      & ⋯           & 146.32      & 148.47      & 152.70      & 154.65      & 156.18      & 160.20      & 172.16      & 178.14      & 179.53      & 186.32     \\\\\n",
       "\t Switzerland &  93.83      &  91.83      &  90.41      &  88.91      &  86.83      &  85.89      &  84.98      &  85.19      &  84.54      & ⋯           & 132.82      & 134.30      & 135.28      & 135.78      & 136.48      & 137.36      & 137.54      & 138.22      & 139.28      & 140.06     \\\\\n",
       "\t Germany     & 108.59      & 108.46      & 109.07      & 109.30      & 109.90      & 110.60      & 111.24      & 112.64      & 113.76      & ⋯           & 101.83      & 103.20      & 104.33      & 105.36      & 106.47      & 108.00      & 109.95      & 111.61      & 112.66      & 113.97     \\\\\n",
       "\t Denmark     &  57.37      &  57.61      &  59.07      &  58.07      &  58.44      &  57.28      &  57.34      &  58.64      &  57.49      & ⋯           &  93.25      &  96.35      &  98.00      &  98.17      &  98.67      & 100.52      & 100.72      & 101.44      & 101.53      & 101.73     \\\\\n",
       "\\end{tabular}\n"
      ],
      "text/markdown": [
       "\n",
       "X | X1975.Q1 | X1975.Q2 | X1975.Q3 | X1975.Q4 | X1976.Q1 | X1976.Q2 | X1976.Q3 | X1976.Q4 | X1977.Q1 | ⋯ | X2014.Q4 | X2015.Q1 | X2015.Q2 | X2015.Q3 | X2015.Q4 | X2016.Q1 | X2016.Q2 | X2016.Q3 | X2016.Q4 | X2017.Q1 | \n",
       "|---|---|---|---|---|---|\n",
       "| Australia   |  39.16      |  38.50      |  38.61      |  37.76      |  37.95      |  38.12      |  38.36      |  37.90      |  37.94      | ⋯           | 132.02      | 134.01      | 139.46      | 142.59      | 141.82      | 142.13      | 144.49      | 146.95      | 153.00      | 156.41      | \n",
       "| Belgium     |  44.51      |  45.66      |  47.01      |  48.67      |  50.60      |  52.26      |  53.74      |  55.20      |  56.32      | ⋯           | 120.57      | 121.07      | 120.81      | 120.89      | 120.85      | 121.12      | 121.21      | 121.73      | 122.33      | 122.12      | \n",
       "| Canada      |  59.42      |  59.20      |  59.89      |  59.54      |  59.20      |  59.85      |  58.89      |  57.63      |  55.91      | ⋯           | 146.32      | 148.47      | 152.70      | 154.65      | 156.18      | 160.20      | 172.16      | 178.14      | 179.53      | 186.32      | \n",
       "| Switzerland |  93.83      |  91.83      |  90.41      |  88.91      |  86.83      |  85.89      |  84.98      |  85.19      |  84.54      | ⋯           | 132.82      | 134.30      | 135.28      | 135.78      | 136.48      | 137.36      | 137.54      | 138.22      | 139.28      | 140.06      | \n",
       "| Germany     | 108.59      | 108.46      | 109.07      | 109.30      | 109.90      | 110.60      | 111.24      | 112.64      | 113.76      | ⋯           | 101.83      | 103.20      | 104.33      | 105.36      | 106.47      | 108.00      | 109.95      | 111.61      | 112.66      | 113.97      | \n",
       "| Denmark     |  57.37      |  57.61      |  59.07      |  58.07      |  58.44      |  57.28      |  57.34      |  58.64      |  57.49      | ⋯           |  93.25      |  96.35      |  98.00      |  98.17      |  98.67      | 100.52      | 100.72      | 101.44      | 101.53      | 101.73      | \n",
       "\n",
       "\n"
      ],
      "text/plain": [
       "  X           X1975.Q1 X1975.Q2 X1975.Q3 X1975.Q4 X1976.Q1 X1976.Q2 X1976.Q3\n",
       "1 Australia    39.16    38.50    38.61    37.76    37.95    38.12    38.36  \n",
       "2 Belgium      44.51    45.66    47.01    48.67    50.60    52.26    53.74  \n",
       "3 Canada       59.42    59.20    59.89    59.54    59.20    59.85    58.89  \n",
       "4 Switzerland  93.83    91.83    90.41    88.91    86.83    85.89    84.98  \n",
       "5 Germany     108.59   108.46   109.07   109.30   109.90   110.60   111.24  \n",
       "6 Denmark      57.37    57.61    59.07    58.07    58.44    57.28    57.34  \n",
       "  X1976.Q4 X1977.Q1 ⋯ X2014.Q4 X2015.Q1 X2015.Q2 X2015.Q3 X2015.Q4 X2016.Q1\n",
       "1  37.90    37.94   ⋯ 132.02   134.01   139.46   142.59   141.82   142.13  \n",
       "2  55.20    56.32   ⋯ 120.57   121.07   120.81   120.89   120.85   121.12  \n",
       "3  57.63    55.91   ⋯ 146.32   148.47   152.70   154.65   156.18   160.20  \n",
       "4  85.19    84.54   ⋯ 132.82   134.30   135.28   135.78   136.48   137.36  \n",
       "5 112.64   113.76   ⋯ 101.83   103.20   104.33   105.36   106.47   108.00  \n",
       "6  58.64    57.49   ⋯  93.25    96.35    98.00    98.17    98.67   100.52  \n",
       "  X2016.Q2 X2016.Q3 X2016.Q4 X2017.Q1\n",
       "1 144.49   146.95   153.00   156.41  \n",
       "2 121.21   121.73   122.33   122.12  \n",
       "3 172.16   178.14   179.53   186.32  \n",
       "4 137.54   138.22   139.28   140.06  \n",
       "5 109.95   111.61   112.66   113.97  \n",
       "6 100.72   101.44   101.53   101.73  "
      ]
     },
     "metadata": {},
     "output_type": "display_data"
    },
    {
     "data": {
      "text/html": [
       "<table>\n",
       "<thead><tr><th scope=col>country</th><th scope=col>X1975.Q1</th><th scope=col>X1975.Q2</th><th scope=col>X1975.Q3</th><th scope=col>X1975.Q4</th><th scope=col>X1976.Q1</th><th scope=col>X1976.Q2</th><th scope=col>X1976.Q3</th><th scope=col>X1976.Q4</th><th scope=col>X1977.Q1</th><th scope=col>⋯</th><th scope=col>X2014.Q4</th><th scope=col>X2015.Q1</th><th scope=col>X2015.Q2</th><th scope=col>X2015.Q3</th><th scope=col>X2015.Q4</th><th scope=col>X2016.Q1</th><th scope=col>X2016.Q2</th><th scope=col>X2016.Q3</th><th scope=col>X2016.Q4</th><th scope=col>X2017.Q1</th></tr></thead>\n",
       "<tbody>\n",
       "\t<tr><td>Australia  </td><td> 39.16     </td><td> 38.50     </td><td> 38.61     </td><td> 37.76     </td><td> 37.95     </td><td> 38.12     </td><td> 38.36     </td><td> 37.90     </td><td> 37.94     </td><td>⋯          </td><td>132.02     </td><td>134.01     </td><td>139.46     </td><td>142.59     </td><td>141.82     </td><td>142.13     </td><td>144.49     </td><td>146.95     </td><td>153.00     </td><td>156.41     </td></tr>\n",
       "\t<tr><td>Belgium    </td><td> 44.51     </td><td> 45.66     </td><td> 47.01     </td><td> 48.67     </td><td> 50.60     </td><td> 52.26     </td><td> 53.74     </td><td> 55.20     </td><td> 56.32     </td><td>⋯          </td><td>120.57     </td><td>121.07     </td><td>120.81     </td><td>120.89     </td><td>120.85     </td><td>121.12     </td><td>121.21     </td><td>121.73     </td><td>122.33     </td><td>122.12     </td></tr>\n",
       "\t<tr><td>Canada     </td><td> 59.42     </td><td> 59.20     </td><td> 59.89     </td><td> 59.54     </td><td> 59.20     </td><td> 59.85     </td><td> 58.89     </td><td> 57.63     </td><td> 55.91     </td><td>⋯          </td><td>146.32     </td><td>148.47     </td><td>152.70     </td><td>154.65     </td><td>156.18     </td><td>160.20     </td><td>172.16     </td><td>178.14     </td><td>179.53     </td><td>186.32     </td></tr>\n",
       "\t<tr><td>Switzerland</td><td> 93.83     </td><td> 91.83     </td><td> 90.41     </td><td> 88.91     </td><td> 86.83     </td><td> 85.89     </td><td> 84.98     </td><td> 85.19     </td><td> 84.54     </td><td>⋯          </td><td>132.82     </td><td>134.30     </td><td>135.28     </td><td>135.78     </td><td>136.48     </td><td>137.36     </td><td>137.54     </td><td>138.22     </td><td>139.28     </td><td>140.06     </td></tr>\n",
       "\t<tr><td>Germany    </td><td>108.59     </td><td>108.46     </td><td>109.07     </td><td>109.30     </td><td>109.90     </td><td>110.60     </td><td>111.24     </td><td>112.64     </td><td>113.76     </td><td>⋯          </td><td>101.83     </td><td>103.20     </td><td>104.33     </td><td>105.36     </td><td>106.47     </td><td>108.00     </td><td>109.95     </td><td>111.61     </td><td>112.66     </td><td>113.97     </td></tr>\n",
       "\t<tr><td>Denmark    </td><td> 57.37     </td><td> 57.61     </td><td> 59.07     </td><td> 58.07     </td><td> 58.44     </td><td> 57.28     </td><td> 57.34     </td><td> 58.64     </td><td> 57.49     </td><td>⋯          </td><td> 93.25     </td><td> 96.35     </td><td> 98.00     </td><td> 98.17     </td><td> 98.67     </td><td>100.52     </td><td>100.72     </td><td>101.44     </td><td>101.53     </td><td>101.73     </td></tr>\n",
       "</tbody>\n",
       "</table>\n"
      ],
      "text/latex": [
       "\\begin{tabular}{r|llllllllllllllllllllllllllllllllllllllllllllllllllllllllllllllllllllllllllllllllllllllllllllllllllllllllllllllllllllllllllllllllllllllllllllllllllllllllllllllllllllllllll}\n",
       " country & X1975.Q1 & X1975.Q2 & X1975.Q3 & X1975.Q4 & X1976.Q1 & X1976.Q2 & X1976.Q3 & X1976.Q4 & X1977.Q1 & ⋯ & X2014.Q4 & X2015.Q1 & X2015.Q2 & X2015.Q3 & X2015.Q4 & X2016.Q1 & X2016.Q2 & X2016.Q3 & X2016.Q4 & X2017.Q1\\\\\n",
       "\\hline\n",
       "\t Australia   &  39.16      &  38.50      &  38.61      &  37.76      &  37.95      &  38.12      &  38.36      &  37.90      &  37.94      & ⋯           & 132.02      & 134.01      & 139.46      & 142.59      & 141.82      & 142.13      & 144.49      & 146.95      & 153.00      & 156.41     \\\\\n",
       "\t Belgium     &  44.51      &  45.66      &  47.01      &  48.67      &  50.60      &  52.26      &  53.74      &  55.20      &  56.32      & ⋯           & 120.57      & 121.07      & 120.81      & 120.89      & 120.85      & 121.12      & 121.21      & 121.73      & 122.33      & 122.12     \\\\\n",
       "\t Canada      &  59.42      &  59.20      &  59.89      &  59.54      &  59.20      &  59.85      &  58.89      &  57.63      &  55.91      & ⋯           & 146.32      & 148.47      & 152.70      & 154.65      & 156.18      & 160.20      & 172.16      & 178.14      & 179.53      & 186.32     \\\\\n",
       "\t Switzerland &  93.83      &  91.83      &  90.41      &  88.91      &  86.83      &  85.89      &  84.98      &  85.19      &  84.54      & ⋯           & 132.82      & 134.30      & 135.28      & 135.78      & 136.48      & 137.36      & 137.54      & 138.22      & 139.28      & 140.06     \\\\\n",
       "\t Germany     & 108.59      & 108.46      & 109.07      & 109.30      & 109.90      & 110.60      & 111.24      & 112.64      & 113.76      & ⋯           & 101.83      & 103.20      & 104.33      & 105.36      & 106.47      & 108.00      & 109.95      & 111.61      & 112.66      & 113.97     \\\\\n",
       "\t Denmark     &  57.37      &  57.61      &  59.07      &  58.07      &  58.44      &  57.28      &  57.34      &  58.64      &  57.49      & ⋯           &  93.25      &  96.35      &  98.00      &  98.17      &  98.67      & 100.52      & 100.72      & 101.44      & 101.53      & 101.73     \\\\\n",
       "\\end{tabular}\n"
      ],
      "text/markdown": [
       "\n",
       "country | X1975.Q1 | X1975.Q2 | X1975.Q3 | X1975.Q4 | X1976.Q1 | X1976.Q2 | X1976.Q3 | X1976.Q4 | X1977.Q1 | ⋯ | X2014.Q4 | X2015.Q1 | X2015.Q2 | X2015.Q3 | X2015.Q4 | X2016.Q1 | X2016.Q2 | X2016.Q3 | X2016.Q4 | X2017.Q1 | \n",
       "|---|---|---|---|---|---|\n",
       "| Australia   |  39.16      |  38.50      |  38.61      |  37.76      |  37.95      |  38.12      |  38.36      |  37.90      |  37.94      | ⋯           | 132.02      | 134.01      | 139.46      | 142.59      | 141.82      | 142.13      | 144.49      | 146.95      | 153.00      | 156.41      | \n",
       "| Belgium     |  44.51      |  45.66      |  47.01      |  48.67      |  50.60      |  52.26      |  53.74      |  55.20      |  56.32      | ⋯           | 120.57      | 121.07      | 120.81      | 120.89      | 120.85      | 121.12      | 121.21      | 121.73      | 122.33      | 122.12      | \n",
       "| Canada      |  59.42      |  59.20      |  59.89      |  59.54      |  59.20      |  59.85      |  58.89      |  57.63      |  55.91      | ⋯           | 146.32      | 148.47      | 152.70      | 154.65      | 156.18      | 160.20      | 172.16      | 178.14      | 179.53      | 186.32      | \n",
       "| Switzerland |  93.83      |  91.83      |  90.41      |  88.91      |  86.83      |  85.89      |  84.98      |  85.19      |  84.54      | ⋯           | 132.82      | 134.30      | 135.28      | 135.78      | 136.48      | 137.36      | 137.54      | 138.22      | 139.28      | 140.06      | \n",
       "| Germany     | 108.59      | 108.46      | 109.07      | 109.30      | 109.90      | 110.60      | 111.24      | 112.64      | 113.76      | ⋯           | 101.83      | 103.20      | 104.33      | 105.36      | 106.47      | 108.00      | 109.95      | 111.61      | 112.66      | 113.97      | \n",
       "| Denmark     |  57.37      |  57.61      |  59.07      |  58.07      |  58.44      |  57.28      |  57.34      |  58.64      |  57.49      | ⋯           |  93.25      |  96.35      |  98.00      |  98.17      |  98.67      | 100.52      | 100.72      | 101.44      | 101.53      | 101.73      | \n",
       "\n",
       "\n"
      ],
      "text/plain": [
       "  country     X1975.Q1 X1975.Q2 X1975.Q3 X1975.Q4 X1976.Q1 X1976.Q2 X1976.Q3\n",
       "1 Australia    39.16    38.50    38.61    37.76    37.95    38.12    38.36  \n",
       "2 Belgium      44.51    45.66    47.01    48.67    50.60    52.26    53.74  \n",
       "3 Canada       59.42    59.20    59.89    59.54    59.20    59.85    58.89  \n",
       "4 Switzerland  93.83    91.83    90.41    88.91    86.83    85.89    84.98  \n",
       "5 Germany     108.59   108.46   109.07   109.30   109.90   110.60   111.24  \n",
       "6 Denmark      57.37    57.61    59.07    58.07    58.44    57.28    57.34  \n",
       "  X1976.Q4 X1977.Q1 ⋯ X2014.Q4 X2015.Q1 X2015.Q2 X2015.Q3 X2015.Q4 X2016.Q1\n",
       "1  37.90    37.94   ⋯ 132.02   134.01   139.46   142.59   141.82   142.13  \n",
       "2  55.20    56.32   ⋯ 120.57   121.07   120.81   120.89   120.85   121.12  \n",
       "3  57.63    55.91   ⋯ 146.32   148.47   152.70   154.65   156.18   160.20  \n",
       "4  85.19    84.54   ⋯ 132.82   134.30   135.28   135.78   136.48   137.36  \n",
       "5 112.64   113.76   ⋯ 101.83   103.20   104.33   105.36   106.47   108.00  \n",
       "6  58.64    57.49   ⋯  93.25    96.35    98.00    98.17    98.67   100.52  \n",
       "  X2016.Q2 X2016.Q3 X2016.Q4 X2017.Q1\n",
       "1 144.49   146.95   153.00   156.41  \n",
       "2 121.21   121.73   122.33   122.12  \n",
       "3 172.16   178.14   179.53   186.32  \n",
       "4 137.54   138.22   139.28   140.06  \n",
       "5 109.95   111.61   112.66   113.97  \n",
       "6 100.72   101.44   101.53   101.73  "
      ]
     },
     "metadata": {},
     "output_type": "display_data"
    }
   ],
   "source": [
    "## your code (filled in for you already)\n",
    "\n",
    "rhpi_wide = read.csv(\"rhpi.csv\") #if this line does not work, check where you are by getwd() \n",
    "head(rhpi_wide)\n",
    "colnames(rhpi_wide)[1] = \"country\"\n",
    "head(rhpi_wide)"
   ]
  },
  {
   "cell_type": "markdown",
   "metadata": {},
   "source": [
    "## 2. Convert the HPI data from wide to long\n",
    "\n",
    "The original HPI data is in wide format. Each row represents a country and each column represents a quarter. This means that each row has the HPI values of **one** country and **different** quarters. \n",
    "    \n",
    "Here we would like to change it to long format so that each row has the a HPI value of **one** country and **one** quarter:\n",
    "    \n",
    "a. take a look of the [```melt```](https://cran.r-project.org/web/packages/reshape2/reshape2.pdf) function and convert the the HPI data into long format. You may want to provide the following additional arguments (take a look of [http://seananderson.ca/2013/10/19/reshape.html] if you do not know how to set the arguments):\n",
    "  * id\n",
    "  * value.name\n",
    "  * variable.name\n",
    "   \n",
    " \n",
    "        \n",
    "b. use [```head```](https://stat.ethz.ch/R-manual/R-devel/library/utils/html/head.html) to take a look of the data\n",
    "    \n",
    "c. you will notice that the quarter value somehow has the X at the beginning (e.g. X1970.Q3 instead of 1970.Q3). If you want to remove the X from the quarter value, take a look of the [```substring```](https://stat.ethz.ch/R-manual/R-devel/library/base/html/substr.html) function."
   ]
  },
  {
   "cell_type": "code",
   "execution_count": 8,
   "metadata": {},
   "outputs": [
    {
     "data": {
      "text/html": [
       "<table>\n",
       "<thead><tr><th scope=col>country</th><th scope=col>quarter</th><th scope=col>HPI</th></tr></thead>\n",
       "<tbody>\n",
       "\t<tr><td>Australia  </td><td>X1975.Q1   </td><td> 39.16     </td></tr>\n",
       "\t<tr><td>Belgium    </td><td>X1975.Q1   </td><td> 44.51     </td></tr>\n",
       "\t<tr><td>Canada     </td><td>X1975.Q1   </td><td> 59.42     </td></tr>\n",
       "\t<tr><td>Switzerland</td><td>X1975.Q1   </td><td> 93.83     </td></tr>\n",
       "\t<tr><td>Germany    </td><td>X1975.Q1   </td><td>108.59     </td></tr>\n",
       "\t<tr><td>Denmark    </td><td>X1975.Q1   </td><td> 57.37     </td></tr>\n",
       "</tbody>\n",
       "</table>\n"
      ],
      "text/latex": [
       "\\begin{tabular}{r|lll}\n",
       " country & quarter & HPI\\\\\n",
       "\\hline\n",
       "\t Australia   & X1975.Q1    &  39.16     \\\\\n",
       "\t Belgium     & X1975.Q1    &  44.51     \\\\\n",
       "\t Canada      & X1975.Q1    &  59.42     \\\\\n",
       "\t Switzerland & X1975.Q1    &  93.83     \\\\\n",
       "\t Germany     & X1975.Q1    & 108.59     \\\\\n",
       "\t Denmark     & X1975.Q1    &  57.37     \\\\\n",
       "\\end{tabular}\n"
      ],
      "text/markdown": [
       "\n",
       "country | quarter | HPI | \n",
       "|---|---|---|---|---|---|\n",
       "| Australia   | X1975.Q1    |  39.16      | \n",
       "| Belgium     | X1975.Q1    |  44.51      | \n",
       "| Canada      | X1975.Q1    |  59.42      | \n",
       "| Switzerland | X1975.Q1    |  93.83      | \n",
       "| Germany     | X1975.Q1    | 108.59      | \n",
       "| Denmark     | X1975.Q1    |  57.37      | \n",
       "\n",
       "\n"
      ],
      "text/plain": [
       "  country     quarter  HPI   \n",
       "1 Australia   X1975.Q1  39.16\n",
       "2 Belgium     X1975.Q1  44.51\n",
       "3 Canada      X1975.Q1  59.42\n",
       "4 Switzerland X1975.Q1  93.83\n",
       "5 Germany     X1975.Q1 108.59\n",
       "6 Denmark     X1975.Q1  57.37"
      ]
     },
     "metadata": {},
     "output_type": "display_data"
    }
   ],
   "source": [
    "library(reshape2)\n",
    "rhpi_long = melt(rhpi_wide, id = \"country\", value.name = \"HPI\", variable.name = \"quarter\")\n",
    "head(rhpi_long)"
   ]
  },
  {
   "cell_type": "markdown",
   "metadata": {},
   "source": [
    "## 3. Load the PDI data and convert the PDI data from wide to long"
   ]
  },
  {
   "cell_type": "code",
   "execution_count": 9,
   "metadata": {},
   "outputs": [
    {
     "data": {
      "text/html": [
       "<table>\n",
       "<thead><tr><th scope=col>country</th><th scope=col>quarter</th><th scope=col>PDI</th></tr></thead>\n",
       "<tbody>\n",
       "\t<tr><td>Australia  </td><td>X1975.Q1   </td><td>72.13      </td></tr>\n",
       "\t<tr><td>Belgium    </td><td>X1975.Q1   </td><td>66.15      </td></tr>\n",
       "\t<tr><td>Canada     </td><td>X1975.Q1   </td><td>70.62      </td></tr>\n",
       "\t<tr><td>Switzerland</td><td>X1975.Q1   </td><td>73.36      </td></tr>\n",
       "\t<tr><td>Germany    </td><td>X1975.Q1   </td><td>65.20      </td></tr>\n",
       "\t<tr><td>Denmark    </td><td>X1975.Q1   </td><td>70.21      </td></tr>\n",
       "</tbody>\n",
       "</table>\n"
      ],
      "text/latex": [
       "\\begin{tabular}{r|lll}\n",
       " country & quarter & PDI\\\\\n",
       "\\hline\n",
       "\t Australia   & X1975.Q1    & 72.13      \\\\\n",
       "\t Belgium     & X1975.Q1    & 66.15      \\\\\n",
       "\t Canada      & X1975.Q1    & 70.62      \\\\\n",
       "\t Switzerland & X1975.Q1    & 73.36      \\\\\n",
       "\t Germany     & X1975.Q1    & 65.20      \\\\\n",
       "\t Denmark     & X1975.Q1    & 70.21      \\\\\n",
       "\\end{tabular}\n"
      ],
      "text/markdown": [
       "\n",
       "country | quarter | PDI | \n",
       "|---|---|---|---|---|---|\n",
       "| Australia   | X1975.Q1    | 72.13       | \n",
       "| Belgium     | X1975.Q1    | 66.15       | \n",
       "| Canada      | X1975.Q1    | 70.62       | \n",
       "| Switzerland | X1975.Q1    | 73.36       | \n",
       "| Germany     | X1975.Q1    | 65.20       | \n",
       "| Denmark     | X1975.Q1    | 70.21       | \n",
       "\n",
       "\n"
      ],
      "text/plain": [
       "  country     quarter  PDI  \n",
       "1 Australia   X1975.Q1 72.13\n",
       "2 Belgium     X1975.Q1 66.15\n",
       "3 Canada      X1975.Q1 70.62\n",
       "4 Switzerland X1975.Q1 73.36\n",
       "5 Germany     X1975.Q1 65.20\n",
       "6 Denmark     X1975.Q1 70.21"
      ]
     },
     "metadata": {},
     "output_type": "display_data"
    }
   ],
   "source": [
    "rpdi_wide = read.csv(\"rpdi.csv\") #if this line does not work, check where you are by getwd() \n",
    "colnames(rpdi_wide)[1] = \"country\"\n",
    "rpdi_long = melt(rpdi_wide, id = \"country\", value.name = \"PDI\", variable.name = \"quarter\")\n",
    "head(rpdi_long)"
   ]
  },
  {
   "cell_type": "markdown",
   "metadata": {},
   "source": [
    "## 4. Merge the long format HPI and PDI data\n",
    "a. take a look of the [```merge```](https://stat.ethz.ch/R-manual/R-devel/library/base/html/merge.html) function and merge the two dataframes together. You should provide the \"```by```\" argument. What should be the unique identifier? Country? Quarter? Or both?\n",
    "\n",
    "b. take a look of the merged data using [```head```](https://stat.ethz.ch/R-manual/R-devel/library/utils/html/head.html) to make sure the data are merged properly."
   ]
  },
  {
   "cell_type": "code",
   "execution_count": 11,
   "metadata": {},
   "outputs": [
    {
     "data": {
      "text/html": [
       "<table>\n",
       "<thead><tr><th scope=col>country</th><th scope=col>quarter</th><th scope=col>HPI</th><th scope=col>PDI</th></tr></thead>\n",
       "<tbody>\n",
       "\t<tr><td>Australia</td><td>X1975.Q1 </td><td>39.16    </td><td>72.13    </td></tr>\n",
       "\t<tr><td>Australia</td><td>X1975.Q2 </td><td>38.50    </td><td>71.41    </td></tr>\n",
       "\t<tr><td>Australia</td><td>X1975.Q3 </td><td>38.61    </td><td>70.63    </td></tr>\n",
       "\t<tr><td>Australia</td><td>X1975.Q4 </td><td>37.76    </td><td>69.63    </td></tr>\n",
       "\t<tr><td>Australia</td><td>X1976.Q1 </td><td>37.95    </td><td>69.25    </td></tr>\n",
       "\t<tr><td>Australia</td><td>X1976.Q2 </td><td>38.12    </td><td>69.64    </td></tr>\n",
       "</tbody>\n",
       "</table>\n"
      ],
      "text/latex": [
       "\\begin{tabular}{r|llll}\n",
       " country & quarter & HPI & PDI\\\\\n",
       "\\hline\n",
       "\t Australia & X1975.Q1  & 39.16     & 72.13    \\\\\n",
       "\t Australia & X1975.Q2  & 38.50     & 71.41    \\\\\n",
       "\t Australia & X1975.Q3  & 38.61     & 70.63    \\\\\n",
       "\t Australia & X1975.Q4  & 37.76     & 69.63    \\\\\n",
       "\t Australia & X1976.Q1  & 37.95     & 69.25    \\\\\n",
       "\t Australia & X1976.Q2  & 38.12     & 69.64    \\\\\n",
       "\\end{tabular}\n"
      ],
      "text/markdown": [
       "\n",
       "country | quarter | HPI | PDI | \n",
       "|---|---|---|---|---|---|\n",
       "| Australia | X1975.Q1  | 39.16     | 72.13     | \n",
       "| Australia | X1975.Q2  | 38.50     | 71.41     | \n",
       "| Australia | X1975.Q3  | 38.61     | 70.63     | \n",
       "| Australia | X1975.Q4  | 37.76     | 69.63     | \n",
       "| Australia | X1976.Q1  | 37.95     | 69.25     | \n",
       "| Australia | X1976.Q2  | 38.12     | 69.64     | \n",
       "\n",
       "\n"
      ],
      "text/plain": [
       "  country   quarter  HPI   PDI  \n",
       "1 Australia X1975.Q1 39.16 72.13\n",
       "2 Australia X1975.Q2 38.50 71.41\n",
       "3 Australia X1975.Q3 38.61 70.63\n",
       "4 Australia X1975.Q4 37.76 69.63\n",
       "5 Australia X1976.Q1 37.95 69.25\n",
       "6 Australia X1976.Q2 38.12 69.64"
      ]
     },
     "metadata": {},
     "output_type": "display_data"
    }
   ],
   "source": [
    "df = merge(rhpi_long, rpdi_long, by=c(\"country\", \"quarter\"))\n",
    "head(df)"
   ]
  },
  {
   "cell_type": "markdown",
   "metadata": {},
   "source": [
    "## 5. Filter the data\n",
    "a. take a look of the [```which```](https://stat.ethz.ch/R-manual/R-devel/library/base/html/which.html) function. This function will return you the indices that a given condition is fulfilled. \n",
    "\n",
    "b. filter the data so that only Australia data is shown.\n",
    "\n",
    "c. use [```head```](https://stat.ethz.ch/R-manual/R-devel/library/utils/html/head.html) and [```tail```](https://stat.ethz.ch/R-manual/R-devel/library/utils/html/head.html) functions to take a look of the data to make sure you filtered the data correctly.\n"
   ]
  },
  {
   "cell_type": "code",
   "execution_count": 13,
   "metadata": {},
   "outputs": [
    {
     "name": "stdout",
     "output_type": "stream",
     "text": [
      "    country  quarter   HPI   PDI\n",
      "1 Australia X1975.Q1 39.16 72.13\n",
      "2 Australia X1975.Q2 38.50 71.41\n",
      "3 Australia X1975.Q3 38.61 70.63\n",
      "4 Australia X1975.Q4 37.76 69.63\n",
      "5 Australia X1976.Q1 37.95 69.25\n",
      "6 Australia X1976.Q2 38.12 69.64\n",
      "      country  quarter    HPI    PDI\n",
      "164 Australia X2015.Q4 141.82 121.66\n",
      "165 Australia X2016.Q1 142.13 122.27\n",
      "166 Australia X2016.Q2 144.49 122.38\n",
      "167 Australia X2016.Q3 146.95 122.06\n",
      "168 Australia X2016.Q4 153.00 121.67\n",
      "169 Australia X2017.Q1 156.41 121.54\n"
     ]
    }
   ],
   "source": [
    "df.australia = df[which(df$country==\"Australia\"),]\n",
    "print(head(df.australia))\n",
    "print(tail(df.australia))"
   ]
  },
  {
   "cell_type": "markdown",
   "metadata": {},
   "source": [
    "## 6. Melt the data \n",
    "\n",
    "a. try to use the melt function again to produce a dataframe that is similar to the melted_df in the [assignment-2-complex-example-python.ipynb](assignment-2-complex-example-python.ipynb)\n",
    "\n",
    "b. use [```head```](https://stat.ethz.ch/R-manual/R-devel/library/utils/html/head.html) and [```tail```](https://stat.ethz.ch/R-manual/R-devel/library/utils/html/head.html) functions to take a look of the data to make sure what you have done is correct.\n"
   ]
  },
  {
   "cell_type": "code",
   "execution_count": 16,
   "metadata": {},
   "outputs": [
    {
     "name": "stdout",
     "output_type": "stream",
     "text": [
      "    country  quarter index index.value\n",
      "1 Australia X1975.Q1   HPI       39.16\n",
      "2 Australia X1975.Q2   HPI       38.50\n",
      "3 Australia X1975.Q3   HPI       38.61\n",
      "4 Australia X1975.Q4   HPI       37.76\n",
      "5 Australia X1976.Q1   HPI       37.95\n",
      "6 Australia X1976.Q2   HPI       38.12\n",
      "     country  quarter index index.value\n",
      "7769      US X2015.Q4   PDI      109.87\n",
      "7770      US X2016.Q1   PDI      110.18\n",
      "7771      US X2016.Q2   PDI      110.65\n",
      "7772      US X2016.Q3   PDI      111.03\n",
      "7773      US X2016.Q4   PDI      110.95\n",
      "7774      US X2017.Q1   PDI      111.36\n"
     ]
    }
   ],
   "source": [
    "melted.df = melt(df, id = c(\"country\", \"quarter\"), variable.name = \"index\", value.name = \"index.value\")\n",
    "print(head(melted.df))\n",
    "print(tail(melted.df))"
   ]
  },
  {
   "cell_type": "markdown",
   "metadata": {},
   "source": [
    "End of the assignment! "
   ]
  }
 ],
 "metadata": {
  "anaconda-cloud": {},
  "kernelspec": {
   "display_name": "R",
   "language": "R",
   "name": "ir"
  },
  "language_info": {
   "codemirror_mode": "r",
   "file_extension": ".r",
   "mimetype": "text/x-r-source",
   "name": "R",
   "pygments_lexer": "r",
   "version": "3.4.1"
  }
 },
 "nbformat": 4,
 "nbformat_minor": 2
}
